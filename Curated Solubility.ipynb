{
 "cells": [
   {
      "cell_type": "markdown",
      "metadata": {
        "id": "view-in-github",
        "colab_type": "text"
      },
      "source": [
        "<a href=\"\" target=\"_parent\"><img src=\"https://colab.research.google.com/assets/colab-badge.svg\" alt=\"Open In Colab\"/></a>"
      ]
    },
  {
   "cell_type": "markdown",
   "id": "51d9509d",
   "metadata": {},
   "source": [
    "##  <font color='black'> **Automl Solubility Data Example** </font>\n",
    "Based in the example in this Jupter notebook:\n",
    "https://notebook.community/GoogleCloudPlatform/python-docs-samples/tables/automl/notebooks/census_income_prediction/getting_started_notebook\n",
    "\n",
    "After you download the patients data from Kaggle to your local drive, go to AI Platform Notebooks. Select \"Upload Files\" on the top left menu and follow the next steps."
   ]
  },
  {
   "cell_type": "code",
   "execution_count": 13,
   "id": "b4c2f177",
   "metadata": {},
   "outputs": [],
   "source": [
    "# Use the latest major GA version of the framework.\n",
    "! pip install --upgrade --quiet --user google-cloud-automl"
   ]
  },
  {
   "cell_type": "code",
   "execution_count": 20,
   "id": "7684b953",
   "metadata": {},
   "outputs": [
    {
     "data": {
      "text/html": [
       "<script>Jupyter.notebook.kernel.restart()</script>"
      ],
      "text/plain": [
       "<IPython.core.display.HTML object>"
      ]
     },
     "execution_count": 20,
     "metadata": {},
     "output_type": "execute_result"
    }
   ],
   "source": [
    "from IPython.core.display import HTML\n",
    "HTML(\"<script>Jupyter.notebook.kernel.restart()</script>\")"
   ]
  },
  {
   "cell_type": "code",
   "execution_count": 3,
   "id": "82a33e37",
   "metadata": {},
   "outputs": [],
   "source": [
    "from __future__ import absolute_import\n",
    "from __future__ import division\n",
    "from __future__ import print_function\n",
    "\n",
    "from google.cloud import automl_v1beta1 as automl\n",
    "\n",
    "import matplotlib.pyplot as plt\n",
    "from ipywidgets import interact\n",
    "import ipywidgets as widgets"
   ]
  },
  {
   "cell_type": "code",
   "execution_count": 4,
   "id": "11380663",
   "metadata": {},
   "outputs": [
    {
     "name": "stdout",
     "output_type": "stream",
     "text": [
      "GCP project ID:hpc-sandbox-306718\n"
     ]
    }
   ],
   "source": [
    "# Read GCP project id from env.\n",
    "shell_output=!gcloud config list --format 'value(core.project)' 2>/dev/null\n",
    "PROJECT_ID=shell_output[0]\n",
    "print(\"GCP project ID:\" + PROJECT_ID)\n",
    "\n",
    "from google.cloud.bigquery import magics\n",
    "import google.auth\n",
    "credentials, project = google.auth.default()\n",
    "\n",
    "magics.context.credentials = credentials"
   ]
  },
  {
   "cell_type": "code",
   "execution_count": 5,
   "id": "d0d00388",
   "metadata": {},
   "outputs": [
    {
     "name": "stdout",
     "output_type": "stream",
     "text": [
      "   3750208  2021-03-18T14:41:52Z  gs://ml-data-hpc/curated-solubility-dataset.csv#1616078512476369  metageneration=1\n",
      "TOTAL: 1 objects, 3750208 bytes (3.58 MiB)\n"
     ]
    }
   ],
   "source": [
    "BUCKET_NAME = \"ml-data-hpc\" #@param {type:\"string\"}\n",
    "! gsutil ls -al gs://$BUCKET_NAME\n",
    "    \n",
    "  \n",
    "    "
   ]
  },
  {
   "cell_type": "code",
   "execution_count": 6,
   "id": "843b44c2",
   "metadata": {},
   "outputs": [],
   "source": [
    "#@title Constants { vertical-output: true }\n",
    "\n",
    "# A name for the AutoML tables Dataset to create.\n",
    "DATASET_DISPLAY_NAME = 'curated_solubility_AqSolDB' #@param {type: 'string'}\n",
    "# The GCS data to import data from (doesn't need to exist).\n",
    "INPUT_CSV_NAME = 'curated-solubility-dataset.csv' #@param {type: 'string'}\n",
    "# A name for the AutoML tables model to create.\n",
    "MODEL_DISPLAY_NAME = '6388444032355270656' #@param {type: 'string'}\n",
    "\n",
    "COMPUTE_REGION='us-central1'\n",
    "\n",
    "GCS_DATASET_URI='gs://ml-data-hpc/curated-solubility-dataset.csv'\n",
    "\n",
    "assert all([\n",
    "    PROJECT_ID,\n",
    "    COMPUTE_REGION,\n",
    "    DATASET_DISPLAY_NAME,\n",
    "    GCS_DATASET_URI,\n",
    "    INPUT_CSV_NAME,\n",
    "    MODEL_DISPLAY_NAME,\n",
    "    BUCKET_NAME\n",
    "])"
   ]
  },
  {
   "cell_type": "code",
   "execution_count": 8,
   "id": "5c75e2f3",
   "metadata": {},
   "outputs": [],
   "source": [
    "# Initialize the clients.\n",
    "automl_client = automl.AutoMlClient()\n",
    "tables_client = automl.TablesClient(project=PROJECT_ID, region=COMPUTE_REGION)"
   ]
  },
  {
   "cell_type": "code",
   "execution_count": 9,
   "id": "b6a24559",
   "metadata": {},
   "outputs": [
    {
     "data": {
      "text/plain": [
       "{'curated_solubility_AqSolDB': 'projects/204898618097/locations/us-central1/datasets/TBL3193642023793983488',\n",
       " 'C_elegans_live_dead_assay': 'projects/204898618097/locations/us-central1/datasets/ICN8549266405667635200'}"
      ]
     },
     "execution_count": 9,
     "metadata": {},
     "output_type": "execute_result"
    }
   ],
   "source": [
    "# List the datasets.\n",
    "list_datasets = tables_client.list_datasets()\n",
    "datasets = { dataset.display_name: dataset.name for dataset in list_datasets }\n",
    "datasets"
   ]
  },
  {
   "cell_type": "code",
   "execution_count": 10,
   "id": "530e1e9b",
   "metadata": {},
   "outputs": [
    {
     "data": {
      "text/plain": [
       "name: \"projects/204898618097/locations/us-central1/datasets/TBL4757833653747187712\"\n",
       "display_name: \"curated_solubility_AqSolDB\"\n",
       "create_time {\n",
       "  seconds: 1618934723\n",
       "  nanos: 45765000\n",
       "}\n",
       "etag: \"AB3BwFoig3KqQreDFTjKVv7u1GZkcNPdytuMQdimjvoZoFCkdm_OGQheBQZnXjCGfXo=\"\n",
       "tables_dataset_metadata {\n",
       "  stats_update_time {\n",
       "  }\n",
       "}"
      ]
     },
     "execution_count": 10,
     "metadata": {},
     "output_type": "execute_result"
    }
   ],
   "source": [
    "# Create dataset.\n",
    "dataset = tables_client.create_dataset(\n",
    "          dataset_display_name=DATASET_DISPLAY_NAME)\n",
    "dataset_name = dataset.name\n",
    "dataset"
   ]
  },
  {
   "cell_type": "code",
   "execution_count": 11,
   "id": "00edc84d",
   "metadata": {},
   "outputs": [
    {
     "name": "stdout",
     "output_type": "stream",
     "text": [
      "gs://ml-data-hpc/curated-solubility-dataset.csv\n"
     ]
    }
   ],
   "source": [
    "# Make sure data is there\n",
    "GCS_DATASET_URI = 'gs://{}/{}.csv'.format(BUCKET_NAME, INPUT_CSV_NAME)\n",
    "! gsutil ls gs://$BUCKET_NAME || gsutil mb -l $COMPUTE_REGION gs://$BUCKET_NAME\n",
    "#! gsutil cp gs://cloud-ml-data-tables/notebooks/census_income.csv $GCS_DATASET_URI"
   ]
  },
  {
   "cell_type": "code",
   "execution_count": 65,
   "id": "2295042d",
   "metadata": {},
   "outputs": [
    {
     "name": "stdout",
     "output_type": "stream",
     "text": [
      "Dataset import operation: name: \"projects/204898618097/locations/us-central1/operations/TBL1203651046967083008\"\n",
      "metadata {\n",
      "  type_url: \"type.googleapis.com/google.cloud.automl.v1beta1.OperationMetadata\"\n",
      "  value: \"\\032\\014\\010\\364\\253\\373\\203\\006\\020\\320\\360\\312\\234\\002\\\"\\014\\010\\364\\253\\373\\203\\006\\020\\320\\360\\312\\234\\002z\\000\"\n",
      "}\n",
      "\n"
     ]
    },
    {
     "ename": "FailedPrecondition",
     "evalue": "400 Cannot move files across regions. Please use a regional bucket in the same location and with same storage class as AutoML. Required Location: us-central1, required location type: Region, required storage class: Standard.",
     "output_type": "error",
     "traceback": [
      "\u001b[0;31m---------------------------------------------------------------------------\u001b[0m",
      "\u001b[0;31mFailedPrecondition\u001b[0m                        Traceback (most recent call last)",
      "\u001b[0;32m<ipython-input-65-7640ba8b7a2b>\u001b[0m in \u001b[0;36m<module>\u001b[0;34m\u001b[0m\n\u001b[1;32m      7\u001b[0m \u001b[0;34m\u001b[0m\u001b[0m\n\u001b[1;32m      8\u001b[0m \u001b[0;31m# Synchronous check of operation status. Wait until import is done.\u001b[0m\u001b[0;34m\u001b[0m\u001b[0;34m\u001b[0m\u001b[0;34m\u001b[0m\u001b[0m\n\u001b[0;32m----> 9\u001b[0;31m \u001b[0mprint\u001b[0m\u001b[0;34m(\u001b[0m\u001b[0;34m'Dataset import response: {}'\u001b[0m\u001b[0;34m.\u001b[0m\u001b[0mformat\u001b[0m\u001b[0;34m(\u001b[0m\u001b[0mimport_data_response\u001b[0m\u001b[0;34m.\u001b[0m\u001b[0mresult\u001b[0m\u001b[0;34m(\u001b[0m\u001b[0;34m)\u001b[0m\u001b[0;34m)\u001b[0m\u001b[0;34m)\u001b[0m\u001b[0;34m\u001b[0m\u001b[0;34m\u001b[0m\u001b[0m\n\u001b[0m\u001b[1;32m     10\u001b[0m \u001b[0;34m\u001b[0m\u001b[0m\n\u001b[1;32m     11\u001b[0m \u001b[0;31m# Verify the status by checking the example_count field.\u001b[0m\u001b[0;34m\u001b[0m\u001b[0;34m\u001b[0m\u001b[0;34m\u001b[0m\u001b[0m\n",
      "\u001b[0;32m/opt/conda/lib/python3.7/site-packages/google/api_core/future/polling.py\u001b[0m in \u001b[0;36mresult\u001b[0;34m(self, timeout, retry)\u001b[0m\n\u001b[1;32m    132\u001b[0m             \u001b[0;31m# pylint: disable=raising-bad-type\u001b[0m\u001b[0;34m\u001b[0m\u001b[0;34m\u001b[0m\u001b[0;34m\u001b[0m\u001b[0m\n\u001b[1;32m    133\u001b[0m             \u001b[0;31m# Pylint doesn't recognize that this is valid in this case.\u001b[0m\u001b[0;34m\u001b[0m\u001b[0;34m\u001b[0m\u001b[0;34m\u001b[0m\u001b[0m\n\u001b[0;32m--> 134\u001b[0;31m             \u001b[0;32mraise\u001b[0m \u001b[0mself\u001b[0m\u001b[0;34m.\u001b[0m\u001b[0m_exception\u001b[0m\u001b[0;34m\u001b[0m\u001b[0;34m\u001b[0m\u001b[0m\n\u001b[0m\u001b[1;32m    135\u001b[0m \u001b[0;34m\u001b[0m\u001b[0m\n\u001b[1;32m    136\u001b[0m         \u001b[0;32mreturn\u001b[0m \u001b[0mself\u001b[0m\u001b[0;34m.\u001b[0m\u001b[0m_result\u001b[0m\u001b[0;34m\u001b[0m\u001b[0;34m\u001b[0m\u001b[0m\n",
      "\u001b[0;31mFailedPrecondition\u001b[0m: 400 Cannot move files across regions. Please use a regional bucket in the same location and with same storage class as AutoML. Required Location: us-central1, required location type: Region, required storage class: Standard."
     ]
    }
   ],
   "source": [
    "# DO NOT RUN MORE THAN ONCE\n",
    "# Read the data source from GCS. \n",
    "import_data_response = tables_client.import_data(\n",
    "    dataset=dataset,\n",
    "    gcs_input_uris=GCS_DATASET_URI\n",
    ")\n",
    "print('Dataset import operation: {}'.format(import_data_response.operation))\n",
    "\n",
    "# Synchronous check of operation status. Wait until import is done.\n",
    "print('Dataset import response: {}'.format(import_data_response.result()))\n",
    "\n"
   ]
  },
  {
   "cell_type": "code",
   "execution_count": 13,
   "id": "a1009139",
   "metadata": {},
   "outputs": [
    {
     "data": {
      "text/plain": [
       "name: \"projects/204898618097/locations/us-central1/datasets/TBL4757833653747187712\"\n",
       "display_name: \"curated_solubility_AqSolDB\"\n",
       "create_time {\n",
       "  seconds: 1618934723\n",
       "  nanos: 45765000\n",
       "}\n",
       "etag: \"AB3BwFqPqsQ_wWRo584kSnykrgOMN3ifadEl2zlVI5I3_oJEJzQ8yopHVqy5EQvZFlI=\"\n",
       "tables_dataset_metadata {\n",
       "  stats_update_time {\n",
       "  }\n",
       "}"
      ]
     },
     "execution_count": 13,
     "metadata": {},
     "output_type": "execute_result"
    }
   ],
   "source": [
    "# Verify the status by checking the example_count field.\n",
    "dataset = tables_client.get_dataset(dataset_name=dataset_name)\n",
    "dataset"
   ]
  },
  {
   "cell_type": "code",
   "execution_count": 40,
   "id": "7cc376fb",
   "metadata": {},
   "outputs": [
    {
     "data": {
      "text/plain": [
       "'projects/204898618097/locations/us-central1/datasets/TBL3193642023793983488'"
      ]
     },
     "execution_count": 40,
     "metadata": {},
     "output_type": "execute_result"
    }
   ],
   "source": [
    "# List the datasets.\n",
    "list_datasets = tables_client.list_datasets()\n",
    "datasets = { dataset.display_name: dataset.name for dataset in list_datasets }\n",
    "datasets['curated_solubility_AqSolDB']"
   ]
  },
  {
   "cell_type": "code",
   "execution_count": 50,
   "id": "446dd338",
   "metadata": {},
   "outputs": [
    {
     "data": {
      "text/plain": [
       "[name: \"projects/204898618097/locations/us-central1/datasets/TBL4757833653747187712\"\n",
       " display_name: \"curated_solubility_AqSolDB\"\n",
       " create_time {\n",
       "   seconds: 1618934723\n",
       "   nanos: 45765000\n",
       " }\n",
       " etag: \"AB3BwFpxcnvQGGaYg8R6IQd0vkzUGirPQuMWZk7ZePa7f5JyvAyucp28kep5pVec1ew=\"\n",
       " tables_dataset_metadata {\n",
       "   stats_update_time {\n",
       "   }\n",
       " },\n",
       " name: \"projects/204898618097/locations/us-central1/datasets/TBL1788272649449766912\"\n",
       " display_name: \"curated_solubility_AqSolDB\"\n",
       " create_time {\n",
       "   seconds: 1618873235\n",
       "   nanos: 460565000\n",
       " }\n",
       " etag: \"AB3BwFp9VMq0fpta68HGJ-8lmGrJT4uneBOIYTbyE1cc2UNq3PvTEN47waSmJQHe_HM=\"\n",
       " tables_dataset_metadata {\n",
       "   stats_update_time {\n",
       "   }\n",
       " },\n",
       " name: \"projects/204898618097/locations/us-central1/datasets/TBL3193642023793983488\"\n",
       " display_name: \"curated_solubility_AqSolDB\"\n",
       " create_time {\n",
       "   seconds: 1616071606\n",
       "   nanos: 424428000\n",
       " }\n",
       " etag: \"AB3BwFqxiantdmD8STznAHZNdmX9jaZ8zwwJA9lglK3TcF5_ZWlAN22qUuETtaUWSGPc\"\n",
       " example_count: 9982\n",
       " tables_dataset_metadata {\n",
       "   primary_table_spec_id: \"542600192214433792\"\n",
       "   target_column_spec_id: \"4300177331848216576\"\n",
       "   target_column_correlations {\n",
       "     key: \"1706103946482810880\"\n",
       "     value {\n",
       "       cramers_v: 0.29670496042379996\n",
       "     }\n",
       "   }\n",
       "   target_column_correlations {\n",
       "     key: \"1994334322634522624\"\n",
       "     value {\n",
       "       cramers_v: 0.0795007727871756\n",
       "     }\n",
       "   }\n",
       "   target_column_correlations {\n",
       "     key: \"2138449510710378496\"\n",
       "     value {\n",
       "       cramers_v: 0.264612697181643\n",
       "     }\n",
       "   }\n",
       "   target_column_correlations {\n",
       "     key: \"2570795074937946112\"\n",
       "     value {\n",
       "       cramers_v: 0.47891113652570816\n",
       "     }\n",
       "   }\n",
       "   target_column_correlations {\n",
       "     key: \"264952065724252160\"\n",
       "     value {\n",
       "       cramers_v: 0.020083477008617165\n",
       "     }\n",
       "   }\n",
       "   target_column_correlations {\n",
       "     key: \"2859025451089657856\"\n",
       "     value {\n",
       "       cramers_v: 0.08430460359819918\n",
       "     }\n",
       "   }\n",
       "   target_column_correlations {\n",
       "     key: \"3147255827241369600\"\n",
       "     value {\n",
       "       cramers_v: 0.05189163977496855\n",
       "     }\n",
       "   }\n",
       "   target_column_correlations {\n",
       "     key: \"3723716579544793088\"\n",
       "     value {\n",
       "       cramers_v: 0.1683176497413736\n",
       "     }\n",
       "   }\n",
       "   target_column_correlations {\n",
       "     key: \"4444292519924072448\"\n",
       "     value {\n",
       "       cramers_v: 0.07050472645959052\n",
       "     }\n",
       "   }\n",
       "   target_column_correlations {\n",
       "     key: \"4876638084151640064\"\n",
       "     value {\n",
       "       cramers_v: 0.13112346714386494\n",
       "     }\n",
       "   }\n",
       "   target_column_correlations {\n",
       "     key: \"5164868460303351808\"\n",
       "     value {\n",
       "       cramers_v: 0.2663288298817116\n",
       "     }\n",
       "   }\n",
       "   target_column_correlations {\n",
       "     key: \"5453098836455063552\"\n",
       "     value {\n",
       "       cramers_v: 0.020083477008617165\n",
       "     }\n",
       "   }\n",
       "   target_column_correlations {\n",
       "     key: \"553182441875963904\"\n",
       "     value {\n",
       "       cramers_v: 0.37278638894906135\n",
       "     }\n",
       "   }\n",
       "   target_column_correlations {\n",
       "     key: \"6029559588758487040\"\n",
       "     value {\n",
       "       cramers_v: 0.3310218772184713\n",
       "     }\n",
       "   }\n",
       "   target_column_correlations {\n",
       "     key: \"6606020341061910528\"\n",
       "     value {\n",
       "       cramers_v: 0.0346032012405593\n",
       "     }\n",
       "   }\n",
       "   target_column_correlations {\n",
       "     key: \"6750135529137766400\"\n",
       "     value {\n",
       "       cramers_v: 0.07978467900477065\n",
       "     }\n",
       "   }\n",
       "   target_column_correlations {\n",
       "     key: \"7182481093365334016\"\n",
       "     value {\n",
       "       cramers_v: 0.31922633626694824\n",
       "     }\n",
       "   }\n",
       "   target_column_correlations {\n",
       "     key: \"7470711469517045760\"\n",
       "     value {\n",
       "       cramers_v: 0.2985351576274013\n",
       "     }\n",
       "   }\n",
       "   target_column_correlations {\n",
       "     key: \"7758941845668757504\"\n",
       "     value {\n",
       "       cramers_v: 0.3371061233015437\n",
       "     }\n",
       "   }\n",
       "   target_column_correlations {\n",
       "     key: \"7903057033744613376\"\n",
       "     value {\n",
       "       cramers_v: 0.12905013158188106\n",
       "     }\n",
       "   }\n",
       "   target_column_correlations {\n",
       "     key: \"8335402597972180992\"\n",
       "     value {\n",
       "       cramers_v: 0.11501357077626863\n",
       "     }\n",
       "   }\n",
       "   target_column_correlations {\n",
       "     key: \"841412818027675648\"\n",
       "     value {\n",
       "       cramers_v: 0.15538613214306835\n",
       "     }\n",
       "   }\n",
       "   target_column_correlations {\n",
       "     key: \"8911863350275604480\"\n",
       "     value {\n",
       "       cramers_v: 0.14168146418651245\n",
       "     }\n",
       "   }\n",
       "   target_column_correlations {\n",
       "     key: \"9055978538351460352\"\n",
       "     value {\n",
       "       cramers_v: 0.08003496547883164\n",
       "     }\n",
       "   }\n",
       "   stats_update_time {\n",
       "     seconds: 1616072024\n",
       "     nanos: 660077000\n",
       "   }\n",
       " }]"
      ]
     },
     "execution_count": 50,
     "metadata": {},
     "output_type": "execute_result"
    }
   ],
   "source": [
    "dataset = [ dataset for dataset in list_datasets if dataset.display_name=='curated_solubility_AqSolDB' ]\n",
    "dataset"
   ]
  },
  {
   "cell_type": "code",
   "execution_count": 17,
   "id": "d0c8b4c5",
   "metadata": {},
   "outputs": [
    {
     "data": {
      "text/plain": [
       "{'curated_solubilit_20210318085445': 'projects/204898618097/locations/us-central1/models/TBL3336281117509550080',\n",
       " 'untitled_16159270_20210316094815': 'projects/204898618097/locations/us-central1/models/TBL6654589617951473664'}"
      ]
     },
     "execution_count": 17,
     "metadata": {},
     "output_type": "execute_result"
    }
   ],
   "source": [
    "# List the models.\n",
    "list_models = tables_client.list_models()\n",
    "models = { model.display_name: model.name for model in list_models }\n",
    "models"
   ]
  },
  {
   "cell_type": "code",
   "execution_count": 55,
   "id": "05c2a914",
   "metadata": {},
   "outputs": [
    {
     "ename": "AttributeError",
     "evalue": "'list' object has no attribute 'name'",
     "output_type": "error",
     "traceback": [
      "\u001b[0;31m---------------------------------------------------------------------------\u001b[0m",
      "\u001b[0;31mAttributeError\u001b[0m                            Traceback (most recent call last)",
      "\u001b[0;32m<ipython-input-55-37cb22a5720d>\u001b[0m in \u001b[0;36m<module>\u001b[0;34m\u001b[0m\n\u001b[1;32m      1\u001b[0m \u001b[0;31m# List table specs.\u001b[0m\u001b[0;34m\u001b[0m\u001b[0;34m\u001b[0m\u001b[0;34m\u001b[0m\u001b[0m\n\u001b[0;32m----> 2\u001b[0;31m \u001b[0mlist_table_specs_response\u001b[0m \u001b[0;34m=\u001b[0m \u001b[0mtables_client\u001b[0m\u001b[0;34m.\u001b[0m\u001b[0mlist_table_specs\u001b[0m\u001b[0;34m(\u001b[0m\u001b[0mdataset\u001b[0m\u001b[0;34m=\u001b[0m\u001b[0mdataset\u001b[0m\u001b[0;34m)\u001b[0m\u001b[0;34m\u001b[0m\u001b[0;34m\u001b[0m\u001b[0m\n\u001b[0m\u001b[1;32m      3\u001b[0m \u001b[0mtable_specs\u001b[0m \u001b[0;34m=\u001b[0m \u001b[0;34m[\u001b[0m\u001b[0ms\u001b[0m \u001b[0;32mfor\u001b[0m \u001b[0ms\u001b[0m \u001b[0;32min\u001b[0m \u001b[0mlist_table_specs_response\u001b[0m\u001b[0;34m]\u001b[0m\u001b[0;34m\u001b[0m\u001b[0;34m\u001b[0m\u001b[0m\n\u001b[1;32m      4\u001b[0m \u001b[0;34m\u001b[0m\u001b[0m\n\u001b[1;32m      5\u001b[0m \u001b[0;34m\u001b[0m\u001b[0m\n",
      "\u001b[0;32m~/.local/lib/python3.7/site-packages/google/cloud/automl_v1beta1/services/tables/tables_client.py\u001b[0m in \u001b[0;36mlist_table_specs\u001b[0;34m(self, dataset, dataset_display_name, dataset_name, project, region, **kwargs)\u001b[0m\n\u001b[1;32m   1081\u001b[0m             \u001b[0mdataset_display_name\u001b[0m\u001b[0;34m=\u001b[0m\u001b[0mdataset_display_name\u001b[0m\u001b[0;34m,\u001b[0m\u001b[0;34m\u001b[0m\u001b[0;34m\u001b[0m\u001b[0m\n\u001b[1;32m   1082\u001b[0m             \u001b[0mproject\u001b[0m\u001b[0;34m=\u001b[0m\u001b[0mproject\u001b[0m\u001b[0;34m,\u001b[0m\u001b[0;34m\u001b[0m\u001b[0;34m\u001b[0m\u001b[0m\n\u001b[0;32m-> 1083\u001b[0;31m             \u001b[0mregion\u001b[0m\u001b[0;34m=\u001b[0m\u001b[0mregion\u001b[0m\u001b[0;34m,\u001b[0m\u001b[0;34m\u001b[0m\u001b[0;34m\u001b[0m\u001b[0m\n\u001b[0m\u001b[1;32m   1084\u001b[0m         )\n\u001b[1;32m   1085\u001b[0m \u001b[0;34m\u001b[0m\u001b[0m\n",
      "\u001b[0;32m~/.local/lib/python3.7/site-packages/google/cloud/automl_v1beta1/services/tables/tables_client.py\u001b[0m in \u001b[0;36m__dataset_name_from_args\u001b[0;34m(self, dataset, dataset_display_name, dataset_name, project, region)\u001b[0m\n\u001b[1;32m    324\u001b[0m                 )\n\u001b[1;32m    325\u001b[0m \u001b[0;34m\u001b[0m\u001b[0m\n\u001b[0;32m--> 326\u001b[0;31m             \u001b[0mdataset_name\u001b[0m \u001b[0;34m=\u001b[0m \u001b[0mdataset\u001b[0m\u001b[0;34m.\u001b[0m\u001b[0mname\u001b[0m\u001b[0;34m\u001b[0m\u001b[0;34m\u001b[0m\u001b[0m\n\u001b[0m\u001b[1;32m    327\u001b[0m         \u001b[0;32melse\u001b[0m\u001b[0;34m:\u001b[0m\u001b[0;34m\u001b[0m\u001b[0;34m\u001b[0m\u001b[0m\n\u001b[1;32m    328\u001b[0m             \u001b[0;31m# we do this to force a NotFound error when needed\u001b[0m\u001b[0;34m\u001b[0m\u001b[0;34m\u001b[0m\u001b[0;34m\u001b[0m\u001b[0m\n",
      "\u001b[0;31mAttributeError\u001b[0m: 'list' object has no attribute 'name'"
     ]
    }
   ],
   "source": [
    "# List table specs.\n",
    "list_table_specs_response = tables_client.list_table_specs(dataset=dataset)\n",
    "table_specs = [s for s in list_table_specs_response]\n",
    "\n",
    "# List column specs.\n",
    "list_column_specs_response = tables_client.list_column_specs(dataset=dataset)\n",
    "column_specs = {s.display_name: s for s in list_column_specs_response}\n",
    "\n",
    "\n",
    "# Print Features and data_type.\n",
    "features = [(key, data_types.TypeCode.Name(value.data_type.type_code)) \n",
    "            for key, value in column_specs.items()]\n",
    "print('Feature list:\\n')\n",
    "for feature in features:\n",
    "    print(feature[0],':', feature[1])\n",
    "\n",
    "\n",
    "\n"
   ]
  },
  {
   "cell_type": "code",
   "execution_count": 35,
   "id": "285110de",
   "metadata": {},
   "outputs": [
    {
     "ename": "NameError",
     "evalue": "name 'column_specs' is not defined",
     "output_type": "error",
     "traceback": [
      "\u001b[0;31m---------------------------------------------------------------------------\u001b[0m",
      "\u001b[0;31mNameError\u001b[0m                                 Traceback (most recent call last)",
      "\u001b[0;32m<ipython-input-35-db0f30b071b3>\u001b[0m in \u001b[0;36m<module>\u001b[0;34m\u001b[0m\n\u001b[1;32m      1\u001b[0m \u001b[0mtype_counts\u001b[0m \u001b[0;34m=\u001b[0m \u001b[0;34m{\u001b[0m\u001b[0;34m}\u001b[0m\u001b[0;34m\u001b[0m\u001b[0;34m\u001b[0m\u001b[0m\n\u001b[0;32m----> 2\u001b[0;31m \u001b[0;32mfor\u001b[0m \u001b[0mcolumn_spec\u001b[0m \u001b[0;32min\u001b[0m \u001b[0mcolumn_specs\u001b[0m\u001b[0;34m.\u001b[0m\u001b[0mvalues\u001b[0m\u001b[0;34m(\u001b[0m\u001b[0;34m)\u001b[0m\u001b[0;34m:\u001b[0m\u001b[0;34m\u001b[0m\u001b[0;34m\u001b[0m\u001b[0m\n\u001b[0m\u001b[1;32m      3\u001b[0m   \u001b[0mtype_name\u001b[0m \u001b[0;34m=\u001b[0m \u001b[0mdata_types\u001b[0m\u001b[0;34m.\u001b[0m\u001b[0mTypeCode\u001b[0m\u001b[0;34m.\u001b[0m\u001b[0mName\u001b[0m\u001b[0;34m(\u001b[0m\u001b[0mcolumn_spec\u001b[0m\u001b[0;34m.\u001b[0m\u001b[0mdata_type\u001b[0m\u001b[0;34m.\u001b[0m\u001b[0mtype_code\u001b[0m\u001b[0;34m)\u001b[0m\u001b[0;34m\u001b[0m\u001b[0;34m\u001b[0m\u001b[0m\n\u001b[1;32m      4\u001b[0m   \u001b[0mtype_counts\u001b[0m\u001b[0;34m[\u001b[0m\u001b[0mtype_name\u001b[0m\u001b[0;34m]\u001b[0m \u001b[0;34m=\u001b[0m \u001b[0mtype_counts\u001b[0m\u001b[0;34m.\u001b[0m\u001b[0mget\u001b[0m\u001b[0;34m(\u001b[0m\u001b[0mtype_name\u001b[0m\u001b[0;34m,\u001b[0m \u001b[0;36m0\u001b[0m\u001b[0;34m)\u001b[0m \u001b[0;34m+\u001b[0m \u001b[0;36m1\u001b[0m\u001b[0;34m\u001b[0m\u001b[0;34m\u001b[0m\u001b[0m\n\u001b[1;32m      5\u001b[0m \u001b[0;34m\u001b[0m\u001b[0m\n",
      "\u001b[0;31mNameError\u001b[0m: name 'column_specs' is not defined"
     ]
    }
   ],
   "source": [
    "type_counts = {}\n",
    "for column_spec in column_specs.values():\n",
    "  type_name = data_types.TypeCode.Name(column_spec.data_type.type_code)\n",
    "  type_counts[type_name] = type_counts.get(type_name, 0) + 1\n",
    "    \n",
    "plt.pie(x=type_counts.values(), labels=type_counts.keys(), autopct='%1.1f%%')\n",
    "plt.axis('equal')\n",
    "plt.show()"
   ]
  },
  {
   "cell_type": "code",
   "execution_count": 19,
   "id": "7e2f89be",
   "metadata": {},
   "outputs": [
    {
     "data": {
      "text/plain": [
       "name: \"projects/204898618097/locations/us-central1/models/TBL3336281117509550080\"\n",
       "display_name: \"curated_solubilit_20210318085445\"\n",
       "dataset_id: \"TBL3193642023793983488\"\n",
       "create_time {\n",
       "  seconds: 1616072185\n",
       "  nanos: 207897000\n",
       "}\n",
       "deployment_state: UNDEPLOYED\n",
       "update_time {\n",
       "  seconds: 1616076177\n",
       "  nanos: 954451000\n",
       "}\n",
       "tables_model_metadata {\n",
       "  target_column_spec {\n",
       "    name: \"projects/204898618097/locations/us-central1/datasets/TBL3193642023793983488/tableSpecs/542600192214433792/columnSpecs/4300177331848216576\"\n",
       "    data_type {\n",
       "      type_code: FLOAT64\n",
       "    }\n",
       "    display_name: \"Solubility\"\n",
       "  }\n",
       "  input_feature_column_specs {\n",
       "    name: \"projects/204898618097/locations/us-central1/datasets/TBL3193642023793983488/tableSpecs/542600192214433792/columnSpecs/4444292519924072448\"\n",
       "    data_type {\n",
       "      type_code: CATEGORY\n",
       "    }\n",
       "    display_name: \"Group\"\n",
       "  }\n",
       "  input_feature_column_specs {\n",
       "    name: \"projects/204898618097/locations/us-central1/datasets/TBL3193642023793983488/tableSpecs/542600192214433792/columnSpecs/6029559588758487040\"\n",
       "    data_type {\n",
       "      type_code: FLOAT64\n",
       "    }\n",
       "    display_name: \"MolWt\"\n",
       "  }\n",
       "  input_feature_column_specs {\n",
       "    name: \"projects/204898618097/locations/us-central1/datasets/TBL3193642023793983488/tableSpecs/542600192214433792/columnSpecs/2570795074937946112\"\n",
       "    data_type {\n",
       "      type_code: FLOAT64\n",
       "    }\n",
       "    display_name: \"MolLogP\"\n",
       "  }\n",
       "  input_feature_column_specs {\n",
       "    name: \"projects/204898618097/locations/us-central1/datasets/TBL3193642023793983488/tableSpecs/542600192214433792/columnSpecs/553182441875963904\"\n",
       "    data_type {\n",
       "      type_code: FLOAT64\n",
       "    }\n",
       "    display_name: \"MolMR\"\n",
       "  }\n",
       "  input_feature_column_specs {\n",
       "    name: \"projects/204898618097/locations/us-central1/datasets/TBL3193642023793983488/tableSpecs/542600192214433792/columnSpecs/7182481093365334016\"\n",
       "    data_type {\n",
       "      type_code: FLOAT64\n",
       "    }\n",
       "    display_name: \"HeavyAtomCount\"\n",
       "  }\n",
       "  input_feature_column_specs {\n",
       "    name: \"projects/204898618097/locations/us-central1/datasets/TBL3193642023793983488/tableSpecs/542600192214433792/columnSpecs/8911863350275604480\"\n",
       "    data_type {\n",
       "      type_code: FLOAT64\n",
       "    }\n",
       "    display_name: \"NumHAcceptors\"\n",
       "  }\n",
       "  input_feature_column_specs {\n",
       "    name: \"projects/204898618097/locations/us-central1/datasets/TBL3193642023793983488/tableSpecs/542600192214433792/columnSpecs/841412818027675648\"\n",
       "    data_type {\n",
       "      type_code: FLOAT64\n",
       "    }\n",
       "    display_name: \"NumHDonors\"\n",
       "  }\n",
       "  input_feature_column_specs {\n",
       "    name: \"projects/204898618097/locations/us-central1/datasets/TBL3193642023793983488/tableSpecs/542600192214433792/columnSpecs/8335402597972180992\"\n",
       "    data_type {\n",
       "      type_code: FLOAT64\n",
       "    }\n",
       "    display_name: \"NumHeteroatoms\"\n",
       "  }\n",
       "  input_feature_column_specs {\n",
       "    name: \"projects/204898618097/locations/us-central1/datasets/TBL3193642023793983488/tableSpecs/542600192214433792/columnSpecs/4876638084151640064\"\n",
       "    data_type {\n",
       "      type_code: FLOAT64\n",
       "    }\n",
       "    display_name: \"NumRotatableBonds\"\n",
       "  }\n",
       "  input_feature_column_specs {\n",
       "    name: \"projects/204898618097/locations/us-central1/datasets/TBL3193642023793983488/tableSpecs/542600192214433792/columnSpecs/7470711469517045760\"\n",
       "    data_type {\n",
       "      type_code: FLOAT64\n",
       "    }\n",
       "    display_name: \"NumValenceElectrons\"\n",
       "  }\n",
       "  input_feature_column_specs {\n",
       "    name: \"projects/204898618097/locations/us-central1/datasets/TBL3193642023793983488/tableSpecs/542600192214433792/columnSpecs/5164868460303351808\"\n",
       "    data_type {\n",
       "      type_code: FLOAT64\n",
       "    }\n",
       "    display_name: \"NumAromaticRings\"\n",
       "  }\n",
       "  input_feature_column_specs {\n",
       "    name: \"projects/204898618097/locations/us-central1/datasets/TBL3193642023793983488/tableSpecs/542600192214433792/columnSpecs/6606020341061910528\"\n",
       "    data_type {\n",
       "      type_code: FLOAT64\n",
       "    }\n",
       "    display_name: \"NumSaturatedRings\"\n",
       "  }\n",
       "  input_feature_column_specs {\n",
       "    name: \"projects/204898618097/locations/us-central1/datasets/TBL3193642023793983488/tableSpecs/542600192214433792/columnSpecs/3147255827241369600\"\n",
       "    data_type {\n",
       "      type_code: FLOAT64\n",
       "    }\n",
       "    display_name: \"NumAliphaticRings\"\n",
       "  }\n",
       "  input_feature_column_specs {\n",
       "    name: \"projects/204898618097/locations/us-central1/datasets/TBL3193642023793983488/tableSpecs/542600192214433792/columnSpecs/2138449510710378496\"\n",
       "    data_type {\n",
       "      type_code: FLOAT64\n",
       "    }\n",
       "    display_name: \"RingCount\"\n",
       "  }\n",
       "  input_feature_column_specs {\n",
       "    name: \"projects/204898618097/locations/us-central1/datasets/TBL3193642023793983488/tableSpecs/542600192214433792/columnSpecs/7903057033744613376\"\n",
       "    data_type {\n",
       "      type_code: FLOAT64\n",
       "    }\n",
       "    display_name: \"TPSA\"\n",
       "  }\n",
       "  input_feature_column_specs {\n",
       "    name: \"projects/204898618097/locations/us-central1/datasets/TBL3193642023793983488/tableSpecs/542600192214433792/columnSpecs/7758941845668757504\"\n",
       "    data_type {\n",
       "      type_code: FLOAT64\n",
       "    }\n",
       "    display_name: \"LabuteASA\"\n",
       "  }\n",
       "  input_feature_column_specs {\n",
       "    name: \"projects/204898618097/locations/us-central1/datasets/TBL3193642023793983488/tableSpecs/542600192214433792/columnSpecs/3723716579544793088\"\n",
       "    data_type {\n",
       "      type_code: FLOAT64\n",
       "    }\n",
       "    display_name: \"BalabanJ\"\n",
       "  }\n",
       "  input_feature_column_specs {\n",
       "    name: \"projects/204898618097/locations/us-central1/datasets/TBL3193642023793983488/tableSpecs/542600192214433792/columnSpecs/1706103946482810880\"\n",
       "    data_type {\n",
       "      type_code: FLOAT64\n",
       "    }\n",
       "    display_name: \"BertzCT\"\n",
       "  }\n",
       "  optimization_objective: \"MINIMIZE_RMSE\"\n",
       "  tables_model_column_info {\n",
       "    column_spec_name: \"projects/204898618097/locations/us-central1/datasets/TBL3193642023793983488/tableSpecs/542600192214433792/columnSpecs/2570795074937946112\"\n",
       "    column_display_name: \"MolLogP\"\n",
       "    feature_importance: 0.15998351573944092\n",
       "  }\n",
       "  tables_model_column_info {\n",
       "    column_spec_name: \"projects/204898618097/locations/us-central1/datasets/TBL3193642023793983488/tableSpecs/542600192214433792/columnSpecs/3723716579544793088\"\n",
       "    column_display_name: \"BalabanJ\"\n",
       "    feature_importance: 0.018070466816425323\n",
       "  }\n",
       "  tables_model_column_info {\n",
       "    column_spec_name: \"projects/204898618097/locations/us-central1/datasets/TBL3193642023793983488/tableSpecs/542600192214433792/columnSpecs/7470711469517045760\"\n",
       "    column_display_name: \"NumValenceElectrons\"\n",
       "    feature_importance: 0.2416779100894928\n",
       "  }\n",
       "  tables_model_column_info {\n",
       "    column_spec_name: \"projects/204898618097/locations/us-central1/datasets/TBL3193642023793983488/tableSpecs/542600192214433792/columnSpecs/1706103946482810880\"\n",
       "    column_display_name: \"BertzCT\"\n",
       "    feature_importance: 0.04057452827692032\n",
       "  }\n",
       "  tables_model_column_info {\n",
       "    column_spec_name: \"projects/204898618097/locations/us-central1/datasets/TBL3193642023793983488/tableSpecs/542600192214433792/columnSpecs/2138449510710378496\"\n",
       "    column_display_name: \"RingCount\"\n",
       "    feature_importance: 0.017591286450624466\n",
       "  }\n",
       "  tables_model_column_info {\n",
       "    column_spec_name: \"projects/204898618097/locations/us-central1/datasets/TBL3193642023793983488/tableSpecs/542600192214433792/columnSpecs/7182481093365334016\"\n",
       "    column_display_name: \"HeavyAtomCount\"\n",
       "    feature_importance: 0.19255511462688446\n",
       "  }\n",
       "  tables_model_column_info {\n",
       "    column_spec_name: \"projects/204898618097/locations/us-central1/datasets/TBL3193642023793983488/tableSpecs/542600192214433792/columnSpecs/8911863350275604480\"\n",
       "    column_display_name: \"NumHAcceptors\"\n",
       "    feature_importance: 0.0276639387011528\n",
       "  }\n",
       "  tables_model_column_info {\n",
       "    column_spec_name: \"projects/204898618097/locations/us-central1/datasets/TBL3193642023793983488/tableSpecs/542600192214433792/columnSpecs/4876638084151640064\"\n",
       "    column_display_name: \"NumRotatableBonds\"\n",
       "    feature_importance: 0.022685127332806587\n",
       "  }\n",
       "  tables_model_column_info {\n",
       "    column_spec_name: \"projects/204898618097/locations/us-central1/datasets/TBL3193642023793983488/tableSpecs/542600192214433792/columnSpecs/7758941845668757504\"\n",
       "    column_display_name: \"LabuteASA\"\n",
       "    feature_importance: 0.0794278159737587\n",
       "  }\n",
       "  tables_model_column_info {\n",
       "    column_spec_name: \"projects/204898618097/locations/us-central1/datasets/TBL3193642023793983488/tableSpecs/542600192214433792/columnSpecs/3147255827241369600\"\n",
       "    column_display_name: \"NumAliphaticRings\"\n",
       "    feature_importance: 0.004353306721895933\n",
       "  }\n",
       "  tables_model_column_info {\n",
       "    column_spec_name: \"projects/204898618097/locations/us-central1/datasets/TBL3193642023793983488/tableSpecs/542600192214433792/columnSpecs/7903057033744613376\"\n",
       "    column_display_name: \"TPSA\"\n",
       "    feature_importance: 0.028589865192770958\n",
       "  }\n",
       "  tables_model_column_info {\n",
       "    column_spec_name: \"projects/204898618097/locations/us-central1/datasets/TBL3193642023793983488/tableSpecs/542600192214433792/columnSpecs/553182441875963904\"\n",
       "    column_display_name: \"MolMR\"\n",
       "    feature_importance: 0.04635102301836014\n",
       "  }\n",
       "  tables_model_column_info {\n",
       "    column_spec_name: \"projects/204898618097/locations/us-central1/datasets/TBL3193642023793983488/tableSpecs/542600192214433792/columnSpecs/6606020341061910528\"\n",
       "    column_display_name: \"NumSaturatedRings\"\n",
       "    feature_importance: 0.0023536758963018656\n",
       "  }\n",
       "  tables_model_column_info {\n",
       "    column_spec_name: \"projects/204898618097/locations/us-central1/datasets/TBL3193642023793983488/tableSpecs/542600192214433792/columnSpecs/8335402597972180992\"\n",
       "    column_display_name: \"NumHeteroatoms\"\n",
       "    feature_importance: 0.03101171925663948\n",
       "  }\n",
       "  tables_model_column_info {\n",
       "    column_spec_name: \"projects/204898618097/locations/us-central1/datasets/TBL3193642023793983488/tableSpecs/542600192214433792/columnSpecs/4444292519924072448\"\n",
       "    column_display_name: \"Group\"\n",
       "    feature_importance: 0.0031545835081487894\n",
       "  }\n",
       "  tables_model_column_info {\n",
       "    column_spec_name: \"projects/204898618097/locations/us-central1/datasets/TBL3193642023793983488/tableSpecs/542600192214433792/columnSpecs/841412818027675648\"\n",
       "    column_display_name: \"NumHDonors\"\n",
       "    feature_importance: 0.029309825971722603\n",
       "  }\n",
       "  tables_model_column_info {\n",
       "    column_spec_name: \"projects/204898618097/locations/us-central1/datasets/TBL3193642023793983488/tableSpecs/542600192214433792/columnSpecs/5164868460303351808\"\n",
       "    column_display_name: \"NumAromaticRings\"\n",
       "    feature_importance: 0.019937803968787193\n",
       "  }\n",
       "  tables_model_column_info {\n",
       "    column_spec_name: \"projects/204898618097/locations/us-central1/datasets/TBL3193642023793983488/tableSpecs/542600192214433792/columnSpecs/6029559588758487040\"\n",
       "    column_display_name: \"MolWt\"\n",
       "    feature_importance: 0.034708473831415176\n",
       "  }\n",
       "  train_budget_milli_node_hours: 8000\n",
       "  train_cost_milli_node_hours: 1109\n",
       "}"
      ]
     },
     "execution_count": 19,
     "metadata": {},
     "output_type": "execute_result"
    }
   ],
   "source": [
    "model = tables_client.get_model(model_display_name='curated_solubilit_20210318085445')\n",
    "model"
   ]
  },
  {
   "cell_type": "code",
   "execution_count": null,
   "id": "4efdf706",
   "metadata": {},
   "outputs": [],
   "source": [
    "# DO NOT RUN IF THE MODEL IS ALREADY TRAINED\n",
    "model_train_hours = 1 #@param {type:'integer'}\n",
    "\n",
    "create_model_response = tables_client.create_model(\n",
    "    model_display_name=MODEL_DISPLAY_NAME,\n",
    "    dataset=dataset,\n",
    "    train_budget_milli_node_hours=model_train_hours*1000\n",
    ")\n",
    "\n",
    "operation_id = create_model_response.operation.name\n",
    "\n",
    "print('Create model operation: {}'.format(create_model_response.operation))"
   ]
  },
  {
   "cell_type": "code",
   "execution_count": 20,
   "id": "c74f672d",
   "metadata": {},
   "outputs": [
    {
     "ename": "KeyboardInterrupt",
     "evalue": "",
     "output_type": "error",
     "traceback": [
      "\u001b[0;31m---------------------------------------------------------------------------\u001b[0m",
      "\u001b[0;31mKeyboardInterrupt\u001b[0m                         Traceback (most recent call last)",
      "\u001b[0;32m<ipython-input-20-fdbdf34e5de8>\u001b[0m in \u001b[0;36m<module>\u001b[0;34m\u001b[0m\n\u001b[0;32m----> 1\u001b[0;31m \u001b[0mtables_client\u001b[0m\u001b[0;34m.\u001b[0m\u001b[0mdeploy_model\u001b[0m\u001b[0;34m(\u001b[0m\u001b[0mmodel\u001b[0m\u001b[0;34m=\u001b[0m\u001b[0mmodel\u001b[0m\u001b[0;34m)\u001b[0m\u001b[0;34m.\u001b[0m\u001b[0mresult\u001b[0m\u001b[0;34m(\u001b[0m\u001b[0;34m)\u001b[0m\u001b[0;34m\u001b[0m\u001b[0;34m\u001b[0m\u001b[0m\n\u001b[0m",
      "\u001b[0;32m/opt/conda/lib/python3.7/site-packages/google/api_core/future/polling.py\u001b[0m in \u001b[0;36mresult\u001b[0;34m(self, timeout, retry)\u001b[0m\n\u001b[1;32m    127\u001b[0m         \"\"\"\n\u001b[1;32m    128\u001b[0m         \u001b[0mkwargs\u001b[0m \u001b[0;34m=\u001b[0m \u001b[0;34m{\u001b[0m\u001b[0;34m}\u001b[0m \u001b[0;32mif\u001b[0m \u001b[0mretry\u001b[0m \u001b[0;32mis\u001b[0m \u001b[0mDEFAULT_RETRY\u001b[0m \u001b[0;32melse\u001b[0m \u001b[0;34m{\u001b[0m\u001b[0;34m\"retry\"\u001b[0m\u001b[0;34m:\u001b[0m \u001b[0mretry\u001b[0m\u001b[0;34m}\u001b[0m\u001b[0;34m\u001b[0m\u001b[0;34m\u001b[0m\u001b[0m\n\u001b[0;32m--> 129\u001b[0;31m         \u001b[0mself\u001b[0m\u001b[0;34m.\u001b[0m\u001b[0m_blocking_poll\u001b[0m\u001b[0;34m(\u001b[0m\u001b[0mtimeout\u001b[0m\u001b[0;34m=\u001b[0m\u001b[0mtimeout\u001b[0m\u001b[0;34m,\u001b[0m \u001b[0;34m**\u001b[0m\u001b[0mkwargs\u001b[0m\u001b[0;34m)\u001b[0m\u001b[0;34m\u001b[0m\u001b[0;34m\u001b[0m\u001b[0m\n\u001b[0m\u001b[1;32m    130\u001b[0m \u001b[0;34m\u001b[0m\u001b[0m\n\u001b[1;32m    131\u001b[0m         \u001b[0;32mif\u001b[0m \u001b[0mself\u001b[0m\u001b[0;34m.\u001b[0m\u001b[0m_exception\u001b[0m \u001b[0;32mis\u001b[0m \u001b[0;32mnot\u001b[0m \u001b[0;32mNone\u001b[0m\u001b[0;34m:\u001b[0m\u001b[0;34m\u001b[0m\u001b[0;34m\u001b[0m\u001b[0m\n",
      "\u001b[0;32m/opt/conda/lib/python3.7/site-packages/google/api_core/future/polling.py\u001b[0m in \u001b[0;36m_blocking_poll\u001b[0;34m(self, timeout, retry)\u001b[0m\n\u001b[1;32m    105\u001b[0m         \u001b[0;32mtry\u001b[0m\u001b[0;34m:\u001b[0m\u001b[0;34m\u001b[0m\u001b[0;34m\u001b[0m\u001b[0m\n\u001b[1;32m    106\u001b[0m             \u001b[0mkwargs\u001b[0m \u001b[0;34m=\u001b[0m \u001b[0;34m{\u001b[0m\u001b[0;34m}\u001b[0m \u001b[0;32mif\u001b[0m \u001b[0mretry\u001b[0m \u001b[0;32mis\u001b[0m \u001b[0mDEFAULT_RETRY\u001b[0m \u001b[0;32melse\u001b[0m \u001b[0;34m{\u001b[0m\u001b[0;34m\"retry\"\u001b[0m\u001b[0;34m:\u001b[0m \u001b[0mretry\u001b[0m\u001b[0;34m}\u001b[0m\u001b[0;34m\u001b[0m\u001b[0;34m\u001b[0m\u001b[0m\n\u001b[0;32m--> 107\u001b[0;31m             \u001b[0mretry_\u001b[0m\u001b[0;34m(\u001b[0m\u001b[0mself\u001b[0m\u001b[0;34m.\u001b[0m\u001b[0m_done_or_raise\u001b[0m\u001b[0;34m)\u001b[0m\u001b[0;34m(\u001b[0m\u001b[0;34m**\u001b[0m\u001b[0mkwargs\u001b[0m\u001b[0;34m)\u001b[0m\u001b[0;34m\u001b[0m\u001b[0;34m\u001b[0m\u001b[0m\n\u001b[0m\u001b[1;32m    108\u001b[0m         \u001b[0;32mexcept\u001b[0m \u001b[0mexceptions\u001b[0m\u001b[0;34m.\u001b[0m\u001b[0mRetryError\u001b[0m\u001b[0;34m:\u001b[0m\u001b[0;34m\u001b[0m\u001b[0;34m\u001b[0m\u001b[0m\n\u001b[1;32m    109\u001b[0m             raise concurrent.futures.TimeoutError(\n",
      "\u001b[0;32m/opt/conda/lib/python3.7/site-packages/google/api_core/retry.py\u001b[0m in \u001b[0;36mretry_wrapped_func\u001b[0;34m(*args, **kwargs)\u001b[0m\n\u001b[1;32m    284\u001b[0m                 \u001b[0msleep_generator\u001b[0m\u001b[0;34m,\u001b[0m\u001b[0;34m\u001b[0m\u001b[0;34m\u001b[0m\u001b[0m\n\u001b[1;32m    285\u001b[0m                 \u001b[0mself\u001b[0m\u001b[0;34m.\u001b[0m\u001b[0m_deadline\u001b[0m\u001b[0;34m,\u001b[0m\u001b[0;34m\u001b[0m\u001b[0;34m\u001b[0m\u001b[0m\n\u001b[0;32m--> 286\u001b[0;31m                 \u001b[0mon_error\u001b[0m\u001b[0;34m=\u001b[0m\u001b[0mon_error\u001b[0m\u001b[0;34m,\u001b[0m\u001b[0;34m\u001b[0m\u001b[0;34m\u001b[0m\u001b[0m\n\u001b[0m\u001b[1;32m    287\u001b[0m             )\n\u001b[1;32m    288\u001b[0m \u001b[0;34m\u001b[0m\u001b[0m\n",
      "\u001b[0;32m/opt/conda/lib/python3.7/site-packages/google/api_core/retry.py\u001b[0m in \u001b[0;36mretry_target\u001b[0;34m(target, predicate, sleep_generator, deadline, on_error)\u001b[0m\n\u001b[1;32m    213\u001b[0m             \u001b[0;34m\"Retrying due to {}, sleeping {:.1f}s ...\"\u001b[0m\u001b[0;34m.\u001b[0m\u001b[0mformat\u001b[0m\u001b[0;34m(\u001b[0m\u001b[0mlast_exc\u001b[0m\u001b[0;34m,\u001b[0m \u001b[0msleep\u001b[0m\u001b[0;34m)\u001b[0m\u001b[0;34m\u001b[0m\u001b[0;34m\u001b[0m\u001b[0m\n\u001b[1;32m    214\u001b[0m         )\n\u001b[0;32m--> 215\u001b[0;31m         \u001b[0mtime\u001b[0m\u001b[0;34m.\u001b[0m\u001b[0msleep\u001b[0m\u001b[0;34m(\u001b[0m\u001b[0msleep\u001b[0m\u001b[0;34m)\u001b[0m\u001b[0;34m\u001b[0m\u001b[0;34m\u001b[0m\u001b[0m\n\u001b[0m\u001b[1;32m    216\u001b[0m \u001b[0;34m\u001b[0m\u001b[0m\n\u001b[1;32m    217\u001b[0m     \u001b[0;32mraise\u001b[0m \u001b[0mValueError\u001b[0m\u001b[0;34m(\u001b[0m\u001b[0;34m\"Sleep generator stopped yielding sleep values.\"\u001b[0m\u001b[0;34m)\u001b[0m\u001b[0;34m\u001b[0m\u001b[0;34m\u001b[0m\u001b[0m\n",
      "\u001b[0;31mKeyboardInterrupt\u001b[0m: "
     ]
    }
   ],
   "source": [
    "tables_client.deploy_model(model=model).result()"
   ]
  },
  {
   "cell_type": "code",
   "execution_count": 32,
   "id": "a9ca6996",
   "metadata": {},
   "outputs": [],
   "source": [
    "gcs_output_folder_name=\"pred\"\n",
    "SAMPLE_INPUT = 'gs://ml-data-biochem/curated-solubility-dataset-batch-100.csv'\n",
    "GCS_BATCH_PREDICT_OUTPUT = 'gs://ml-data-biochem/{}/'.format(gcs_output_folder_name)\n",
    "\n"
   ]
  },
  {
   "cell_type": "code",
   "execution_count": 34,
   "id": "3ff30ba3",
   "metadata": {},
   "outputs": [
    {
     "name": "stdout",
     "output_type": "stream",
     "text": [
      "Batch prediction operation: name: \"projects/204898618097/locations/us-central1/operations/TBL6351546896028270592\"\n",
      "metadata {\n",
      "  type_url: \"type.googleapis.com/google.cloud.automl.v1beta1.OperationMetadata\"\n",
      "  value: \"\\032\\014\\010\\361\\324\\374\\203\\006\\020\\270\\265\\214\\306\\002\\\"\\014\\010\\361\\324\\374\\203\\006\\020\\270\\265\\214\\306\\002\\202\\001C\\nA\\n?\\n=gs://ml-data-biochem/curated-solubility-dataset-batch-100.csv\"\n",
      "}\n",
      "\n"
     ]
    },
    {
     "data": {
      "text/plain": [
       "create_time {\n",
       "  seconds: 1618946673\n",
       "  nanos: 683875000\n",
       "}\n",
       "update_time {\n",
       "  seconds: 1618947002\n",
       "  nanos: 329507000\n",
       "}\n",
       "batch_predict_details {\n",
       "  input_config {\n",
       "    gcs_source {\n",
       "      input_uris: \"gs://ml-data-biochem/curated-solubility-dataset-batch-100.csv\"\n",
       "    }\n",
       "  }\n",
       "  output_info {\n",
       "    gcs_output_directory: \"gs://ml-data-biochem/pred/prediction-curated_solubilit_20210318085445-2021-04-20T19:24:33.552063Z\"\n",
       "  }\n",
       "}"
      ]
     },
     "execution_count": 34,
     "metadata": {},
     "output_type": "execute_result"
    }
   ],
   "source": [
    "batch_predict_response = tables_client.batch_predict(\n",
    "    model=model, \n",
    "    gcs_input_uris=SAMPLE_INPUT,\n",
    "    gcs_output_uri_prefix=GCS_BATCH_PREDICT_OUTPUT,\n",
    ")\n",
    "print('Batch prediction operation: {}'.format(\n",
    "    batch_predict_response.operation))\n",
    "\n",
    "# Wait until batch prediction is done.\n",
    "batch_predict_result = batch_predict_response.result()\n",
    "batch_predict_response.metadata"
   ]
  },
  {
   "cell_type": "code",
   "execution_count": null,
   "id": "fd7ae678",
   "metadata": {},
   "outputs": [],
   "source": [
    "# CLEAN UP ALL RESOURCES USED\n",
    "# Delete model resource.\n",
    "#tables_client.delete_model(model_name=model_name)\n",
    "\n",
    "# Delete dataset resource.\n",
    "#tables_client.delete_dataset(dataset_name=dataset_name)\n",
    "\n",
    "# Delete Cloud Storage objects that were created.\n",
    "#! gsutil -m rm -r gs://$BUCKET_NAME\n",
    "  \n",
    "# If training model is still running, cancel it.\n",
    "#automl_client.transport._operations_client.cancel_operation(operation_id)"
   ]
  },
  {
   "cell_type": "code",
   "execution_count": 57,
   "id": "d2fe3374",
   "metadata": {},
   "outputs": [],
   "source": [
    "## ID,Name,InChI,InChIKey,SMILES,Solubility,SD,Ocurrences,Group,MolWt,MolLogP,MolMR,HeavyAtomCount,NumHAcceptors,NumHDonors,NumHeteroatoms,NumRotatableBonds,NumValenceElectrons,NumAromaticRings,NumSaturatedRings,NumAliphaticRings,RingCount,TPSA,LabuteASA,BalabanJ,BertzCT\n",
    "## A-3,\"N,N,N-trimethyloctadecan-1-aminium bromide\",\"InChI=1S/C21H46N.BrH/c1-5-6-7-8-9-10-11-12-13-14-15-16-17-18-19-20-21-22(2,3)4;/h5-21H2,1-4H3;1H/q+1;/p-1\",SZEMGTQCPRNXEG-UHFFFAOYSA-M,[Br-].CCCCCCCCCCCCCCCCCC[N+](C)(C)C,-3.6161271205000003,0.0,1,G1,392.5100000000002,3.9581000000000017,102.44540000000009,23.0,0.0,0.0,2.0,17.0,142.0,0.0,0.0,0.0,0.0,0.0,158.52060058500794,0.0,210.377334085253\n",
    "## A-4,Benzo[cd]indol-2(1H)-one,\"InChI=1S/C11H7NO/c13-11-8-5-1-3-7-4-2-6-9(12-11)10(7)8/h1-6H,(H,12,13)\",GPYLCFQEKPUWLD-UHFFFAOYSA-N,O=C1Nc2cccc3cccc1c23,-3.2547670983,0.0,1,G1,169.18299999999996,2.405500000000001,51.90120000000002,13.0,1.0,1.0,2.0,0.0,62.0,2.0,0.0,1.0,3.0,29.1,75.18356289575135,2.5829963936570306,511.2292477154965"
   ]
  },
  {
   "cell_type": "code",
   "execution_count": null,
   "id": "6e9b6a01",
   "metadata": {},
   "outputs": [],
   "source": [
    "#ID,Name,InChI,InChIKey,SMILES,Solubility,SD,Ocurrences,Group,MolWt,MolLogP,MolMR,HeavyAtomCount,NumHAcceptors,NumHDonors,NumHeteroatoms,NumRotatableBonds,NumValenceElectrons,NumAromaticRings,NumSaturatedRings,NumAliphaticRings,RingCount,TPSA,LabuteASA,BalabanJ,BertzCT,predicted_Solubility\n",
    "#A-65,\"2-(benzotriazol-2-yl)-6-[[3-(benzotriazol-2-yl)-2-hydroxy-5-(2,4,4-trimethylpentan-2-yl)phenyl]methyl]-4-(2,4,4-trimethylpentan-2-yl)phenol\",\"InChI=1S/C41H50N6O2/c1-38(2,3)24-40(7,8)28-20-26(36(48)34(22-28)46-42-30-15-11-12-16-31(30)43-46)19-27-21-29(41(9,10)25-39(4,5)6)23-35(37(27)49)47-44-32-17-13-14-18-33(32)45-47/h11-18,20-23,48-49H,19,24-25H2,1-10H3\",FQUNFJULCYSSOP-UHFFFAOYSA-N,CC(C)(C)CC(C)(C)c1cc(Cc2cc(cc(n3nc4ccccc4n3)c2O)C(C)(C)CC(C)(C)C)c(O)c(c1)n5nc6ccccc6n5,-7.973715535399999,1.855923840245174,3,G4,658.8910000000001,9.583999999999996,198.0615999999994,49.0,8.0,2.0,8.0,8.0,256.0,6.0,0.0,0.0,6.0,101.88,289.349168262918,1.5526911798946945,1937.7168881281682,-7.0111432075500488\n",
    "#A-24,2-(4-chloro-2-methylphenoxy)propanoic acid,\"InChI=1S/C10H11ClO3/c1-6-5-8(11)3-4-9(6)14-7(2)10(12)13/h3-5,7H,1-2H3,(H,12,13)\",WNTGYJSOUMFZEP-UHFFFAOYSA-N,CC(Oc1ccc(Cl)cc1C)C(O)=O,-2.4660307863,0.06062087680051357,4,G5,214.64799999999997,2.5003199999999994,53.91480000000002,14.0,2.0,1.0,4.0,3.0,76.0,1.0,0.0,0.0,1.0,46.53,87.26373888571173,2.817664884623791,349.2203893594689,-2.8079211711883545\n",
    "#A-9,\"4-({4-[bis(oxiran-2-ylmethyl)amino]phenyl}methyl)-N,N-bis(oxiran-2-ylmethyl)aniline\",\"InChI=1S/C25H30N2O4/c1-5-20(26(10-22-14-28-22)11-23-15-29-23)6-2-18(1)9-19-3-7-21(8-4-19)27(12-24-16-30-24)13-25-17-31-25/h1-8,22-25H,9-17H2\",FAUAZXVRLVIARB-UHFFFAOYSA-N,C1OC1CN(CC2CO2)c3ccc(Cc4ccc(cc4)N(CC5CO5)CC6CO6)cc3,-4.6620645831,0.0,1,G1,422.5250000000002,2.4854000000000003,119.07600000000004,31.0,6.0,0.0,6.0,12.0,164.0,2.0,4.0,4.0,6.0,56.6,183.18326845703425,1.0844273169718197,769.8999341256456,-3.538607120513916"
   ]
  }
 ],
 "metadata": {
  "environment": {
   "name": "tf2-gpu.2-3.m65",
   "type": "gcloud",
   "uri": "gcr.io/deeplearning-platform-release/tf2-gpu.2-3:m65"
  },
  "kernelspec": {
   "display_name": "Python 3",
   "language": "python",
   "name": "python3"
  },
  "language_info": {
   "codemirror_mode": {
    "name": "ipython",
    "version": 3
   },
   "file_extension": ".py",
   "mimetype": "text/x-python",
   "name": "python",
   "nbconvert_exporter": "python",
   "pygments_lexer": "ipython3",
   "version": "3.7.10"
  }
 },
 "nbformat": 4,
 "nbformat_minor": 5
}
